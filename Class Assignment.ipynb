{
  "nbformat": 4,
  "nbformat_minor": 0,
  "metadata": {
    "colab": {
      "provenance": [],
      "authorship_tag": "ABX9TyMbR/7TyhmfBM0cEmGkgCtc",
      "include_colab_link": true
    },
    "kernelspec": {
      "name": "python3",
      "display_name": "Python 3"
    },
    "language_info": {
      "name": "python"
    }
  },
  "cells": [
    {
      "cell_type": "markdown",
      "metadata": {
        "id": "view-in-github",
        "colab_type": "text"
      },
      "source": [
        "<a href=\"https://colab.research.google.com/github/Tannuv95/Python-basic-to-advanced/blob/main/Class%20Assignment.ipynb\" target=\"_parent\"><img src=\"https://colab.research.google.com/assets/colab-badge.svg\" alt=\"Open In Colab\"/></a>"
      ]
    },
    {
      "cell_type": "code",
      "execution_count": null,
      "metadata": {
        "id": "vdRomK1xofK6"
      },
      "outputs": [],
      "source": []
    },
    {
      "cell_type": "code",
      "source": [
        "'''#Question1\n",
        "class BankAccount:\n",
        "\n",
        "    def __init__(self,name,amount,interest_rate):\n",
        "        self.name=name\n",
        "        self.amount=amount\n",
        "        self.interest_rate=interest_rate\n",
        "\n",
        "    def apply_interest(self):\n",
        "        self.amount += self.amount*(self.interest_rate/100)\n",
        "\n",
        "    def show(self):\n",
        "        print(f\"{self.name} has the balance ${self.amount} in his account \")\n",
        "\n",
        "B1=BankAccount(\"Juan De Hattatime\",1000,3)\n",
        "B1.apply_interest()\n",
        "B1.show()\n",
        "B1.interest_rate=2\n",
        "B1.apply_interest()\n",
        "B1.show()\n",
        "\n",
        "#Question2\n",
        "\n",
        "class Item:\n",
        "\n",
        "    def __init__(self,name,price):\n",
        "        self.name=name\n",
        "        self.price=price\n",
        "    def __str__(self):\n",
        "        print(f\"{self.name}: Rs.{self.price:.2f}\") #:.2f is used for formatting to two decimal place\n",
        "\n",
        "\n",
        "I1=Item(\"Rice\",20.00)\n",
        "I1.__str__()\n",
        "'''\n",
        "#Question 3\n",
        "class RestaurantCheck:\n",
        "    def __init__(self,check_number, sales_tax_percent, subtotal, table_number,server_name):\n",
        "        self.check_number=check_number\n",
        "        self.sales_tax_percent=sales_tax_percent\n",
        "        self.subtotal= subtotal\n",
        "        self.table_number=table_number\n",
        "        self.server_name=server_name\n",
        "\n",
        "    def calculate_total(self):\n",
        "        return self.subtotal+(self.subtotal*self.sales_tax_percent)/100\n",
        "\n",
        "    def print_check(self):\n",
        "        total = self.calculate_total()\n",
        "        check_filename = f\"check{self.check_number:03d}.txt\" #03d is format is for If the check number is 23, it will be formatted as 023 and d is for integer\n",
        "        with open(check_filename, 'w') as f:\n",
        "            f.write(f\"Check Number: {self.check_number}\\n\")\n",
        "            f.write(f\"Sales tax: {self.sales_tax_percent}%\\n\")\n",
        "            f.write(f\"Subtotal: ${self.subtotal}\\n\")\n",
        "            f.write(f\"Total: ${total:.2f}\\n\")\n",
        "            f.write(f\"Table Number: {self.table_number}\\n\")\n",
        "            f.write(f\"Server: {self.server_name}\\n\")\n",
        "\n",
        "R1=RestaurantCheck(443,6.0,23.14,17,\"Sonic the Hedgehog\")\n",
        "R1.print_check()\n",
        "\n",
        "#Question 4\n",
        "class Ticket:\n",
        "    def __init__(self,price,start_time):\n",
        "        self.price=price\n",
        "        self.start_time=start_time\n",
        "\n",
        "    def __str__(self):\n",
        "        print(f\"Ticket({self.price}, {self.start_time})\")\n",
        "\n",
        "    def is_evening_time(self):\n",
        "        hours, minutes = map(int, self.start_time.split(':'))\n",
        "        if 18 <= hours <= 23:\n",
        "            return True\n",
        "        else:\n",
        "            return False\n",
        "\n",
        "    def bulk_discount(self,n):\n",
        "        if(n>=5 and n<=9):\n",
        "            return 10\n",
        "        elif(n>=10):\n",
        "            return 20\n",
        "        else:\n",
        "            return 0\n",
        "\n",
        "ticket = Ticket(50, \"18:35\")\n",
        "ticket.__str__()\n",
        "print(ticket.is_evening_time())\n",
        "print(ticket.bulk_discount(7))"
      ],
      "metadata": {
        "id": "EssX-8xTojqf"
      },
      "execution_count": null,
      "outputs": []
    }
  ]
}