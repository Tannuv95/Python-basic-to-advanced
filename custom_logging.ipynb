{
  "nbformat": 4,
  "nbformat_minor": 0,
  "metadata": {
    "colab": {
      "provenance": [],
      "authorship_tag": "ABX9TyN36yPc+bMYzhEIuiF2bMuy",
      "include_colab_link": true
    },
    "kernelspec": {
      "name": "python3",
      "display_name": "Python 3"
    },
    "language_info": {
      "name": "python"
    }
  },
  "cells": [
    {
      "cell_type": "markdown",
      "metadata": {
        "id": "view-in-github",
        "colab_type": "text"
      },
      "source": [
        "<a href=\"https://colab.research.google.com/github/Tannuv95/Python-basic-to-advanced/blob/main/custom_logging.ipynb\" target=\"_parent\"><img src=\"https://colab.research.google.com/assets/colab-badge.svg\" alt=\"Open In Colab\"/></a>"
      ]
    },
    {
      "cell_type": "code",
      "execution_count": null,
      "metadata": {
        "id": "MsGOePH1pCSr"
      },
      "outputs": [],
      "source": [
        "import logging\n",
        "\n",
        "logger=logging.getLogger(__name__)\n",
        "\n",
        "#create handlers\n",
        "c_handler=logging.StreamHandler() #show logs in console\n",
        "f_handler=logging.FileHandler('abc.log')\n",
        "c_handler.setLevel(logging.WARNING)\n",
        "f_handler.setLevel(logging.ERROR)\n",
        "\n",
        "#create formatters and add it to handler\n",
        "\n",
        "c_format=logging.Formatter('%(name)s-%(levelname)s-%(message)s')\n",
        "f_format=logging.Formatter('%(asctime)s-%(name)s-%(levelname)s-%(message)s')\n",
        "\n",
        "#setting formatting\n",
        "c_handler.setFormatter(c_format)\n",
        "f_handler.setFormatter(f_format)\n",
        "\n",
        "#Add handler to the logger\n",
        "\n",
        "logger.addHandler(c_handler)\n",
        "logger.addHandler(f_handler)\n",
        "\n",
        "logger.warning(\"This is\\\n",
        " warning\")\n",
        "logger.error('This is error')\n",
        "\n",
        "def divide(dividend,divisor):\n",
        "    try:\n",
        "        logger.critical(f\"Dividing {dividend} by {divisor}\")\n",
        "        return dividend/divisor\n",
        "    except ZeroDivisionError:\n",
        "        logger.error(\"zero division error\")\n",
        "\n",
        "print(divide(6,0))"
      ]
    }
  ]
}